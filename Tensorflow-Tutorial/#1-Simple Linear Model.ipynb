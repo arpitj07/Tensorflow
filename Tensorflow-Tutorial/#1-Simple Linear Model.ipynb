{
 "cells": [
  {
   "cell_type": "markdown",
   "metadata": {
    "_uuid": "6f7089e2e868fe2c1a1fe1851b1ee99098d99336"
   },
   "source": [
    "# Imports"
   ]
  },
  {
   "cell_type": "code",
   "execution_count": 1,
   "metadata": {
    "_cell_guid": "b1076dfc-b9ad-4769-8c92-a6c4dae69d19",
    "_uuid": "8f2839f25d086af736a60e9eeb907d3b93b6e0e5"
   },
   "outputs": [],
   "source": [
    "# This Python 3 environment comes with many helpful analytics libraries installed\n",
    "# It is defined by the kaggle/python docker image: https://github.com/kaggle/docker-python\n",
    "# For example, here's several helpful packages to load in \n",
    "\n",
    "import numpy as np # linear algebra\n",
    "import pandas as pd # data processing, CSV file I/O (e.g. pd.read_csv)\n",
    "\n",
    "%matplotlib inline\n",
    "import matplotlib.pyplot as plt\n",
    "import tensorflow as tf\n",
    "from sklearn.metrics import confusion_matrix\n",
    "# Input data files are available in the \"../input/\" directory.\n",
    "# For example, running this (by clicking run or pressing Shift+Enter) will list the files in the input directory\n",
    "import math\n",
    "import os\n",
    "#print(os.listdir(\"../input\"))\n",
    "\n",
    "# Any results you write to the current directory are saved as output."
   ]
  },
  {
   "cell_type": "code",
   "execution_count": 2,
   "metadata": {
    "_cell_guid": "79c7e3d0-c299-4dcb-8224-4455121ee9b0",
    "_uuid": "d629ff2d2480ee46fbb7e2d37f6b5fab8052498a"
   },
   "outputs": [
    {
     "data": {
      "text/plain": [
       "'1.11.0'"
      ]
     },
     "execution_count": 2,
     "metadata": {},
     "output_type": "execute_result"
    }
   ],
   "source": [
    "tf.__version__"
   ]
  },
  {
   "cell_type": "markdown",
   "metadata": {
    "_uuid": "53fd36fe94e52aafa21b6398e09efd8b324f8d1a"
   },
   "source": [
    "# **Loading data**"
   ]
  },
  {
   "cell_type": "code",
   "execution_count": 3,
   "metadata": {
    "_uuid": "129314e7aee0d3f4c2880bffb6bf85968bf5dc05"
   },
   "outputs": [],
   "source": [
    "# from mnist import MNIST\n",
    "# data = MNIST(data_dir = 'data/MNIST/')\n",
    "\n",
    "# from tensorflow.examples.tutorials.mnist import input_data\n",
    "# mnist = input_data.read_data_sets('MNIST_data', one_hot=True)\n",
    "\n",
    "mnist = tf.keras.datasets.mnist\n",
    "(X_train , Y_train ) , (X_test , Y_test) =mnist.load_data()\n",
    "X_train, X_test = X_train/255.0 , X_test/255.0"
   ]
  },
  {
   "cell_type": "code",
   "execution_count": 4,
   "metadata": {
    "_uuid": "97d57617417d0c92a9485cb7e6f32a57dc52fc5d"
   },
   "outputs": [
    {
     "name": "stdout",
     "output_type": "stream",
     "text": [
      "Size of:\n",
      "- Training-set:\t\t60000\n",
      "- Test-set:\t\t10000\n"
     ]
    }
   ],
   "source": [
    "print(\"Size of:\")\n",
    "print(\"- Training-set:\\t\\t{}\".format(len(X_train)))\n",
    "print(\"- Test-set:\\t\\t{}\".format(len(X_test)))"
   ]
  },
  {
   "cell_type": "code",
   "execution_count": 5,
   "metadata": {
    "_uuid": "457f8da3b98c8d6bba84d14534510ec0793a3368"
   },
   "outputs": [],
   "source": [
    "X_train_images = X_train.reshape(X_train.shape[0],-1)\n",
    "X_test_images  =  X_test.reshape(X_test.shape[0],-1)"
   ]
  },
  {
   "cell_type": "code",
   "execution_count": 6,
   "metadata": {},
   "outputs": [
    {
     "name": "stdout",
     "output_type": "stream",
     "text": [
      "The shape of X_train:(60000, 784)\n",
      "The shape of X_test:(10000, 784)\n",
      "The shape of Y_train:(60000,)\n",
      "The shape of Y_test:(10000,)\n"
     ]
    }
   ],
   "source": [
    "print(\"The shape of X_train:{}\".format(X_train_images.shape))\n",
    "print(\"The shape of X_test:{}\".format(X_test_images.shape))\n",
    "print(\"The shape of Y_train:{}\".format(Y_train.shape))\n",
    "print(\"The shape of Y_test:{}\".format(Y_test.shape))"
   ]
  },
  {
   "cell_type": "markdown",
   "metadata": {
    "_uuid": "d0afd5615430a18e616c5b301b19072d78e26bc8"
   },
   "source": [
    "# **One Hot Encoded**"
   ]
  },
  {
   "cell_type": "code",
   "execution_count": 7,
   "metadata": {},
   "outputs": [],
   "source": [
    "def one_hot_code(x):\n",
    "    \n",
    "    encoded = np.zeros((len(x),10))\n",
    "    for idx , val in enumerate(x):\n",
    "        encoded[idx][val]=1 \n",
    "        \n",
    "    return encoded"
   ]
  },
  {
   "cell_type": "code",
   "execution_count": 8,
   "metadata": {},
   "outputs": [
    {
     "name": "stdout",
     "output_type": "stream",
     "text": [
      "The shape of Y_train_cls:(60000, 10)\n",
      "The shape of Y_test_cls:(10000, 10)\n"
     ]
    }
   ],
   "source": [
    "Train_labels = one_hot_code(Y_train)\n",
    "Test_labels = one_hot_code(Y_test)\n",
    "print(\"The shape of Y_train_cls:{}\".format(Train_labels.shape))\n",
    "print(\"The shape of Y_test_cls:{}\".format(Test_labels.shape))"
   ]
  },
  {
   "cell_type": "markdown",
   "metadata": {
    "_uuid": "d273d7b505a3f01767baba63c5661ca60da3473e"
   },
   "source": [
    "# **Tensorflow Graph**"
   ]
  },
  {
   "cell_type": "code",
   "execution_count": 9,
   "metadata": {
    "_uuid": "db8154eac9212940c2eab60957608b237cc11964"
   },
   "outputs": [],
   "source": [
    "x = tf.placeholder(tf.float32, [None, (28*28)])\n",
    "y_true = tf.placeholder(tf.float32, [None, 10])\n",
    "y_true_cls = tf.placeholder(tf.float32, [None])"
   ]
  },
  {
   "cell_type": "markdown",
   "metadata": {
    "_uuid": "92e961eac5fa95a507b2f30d7ea55246f2da0e94"
   },
   "source": [
    "# Variables to be Optimized"
   ]
  },
  {
   "cell_type": "code",
   "execution_count": 10,
   "metadata": {
    "_uuid": "35facba39450df876404c4394c44703d604ac6eb"
   },
   "outputs": [],
   "source": [
    "weights = tf.Variable(tf.zeros([(28*28) , 10]))\n",
    "biases = tf.Variable(tf.zeros([10]))"
   ]
  },
  {
   "cell_type": "markdown",
   "metadata": {
    "_uuid": "fca6bf676dbd91a73e6c77434d8d0aebe2228bba"
   },
   "source": [
    "# **Model**"
   ]
  },
  {
   "cell_type": "code",
   "execution_count": 11,
   "metadata": {
    "_uuid": "52ab31e0f82c3d4191e1285a5f3442d34ae194cc"
   },
   "outputs": [],
   "source": [
    "logits = tf.matmul(x, weights) + biases"
   ]
  },
  {
   "cell_type": "code",
   "execution_count": 12,
   "metadata": {
    "_uuid": "84b9193c5a0757f465c1cb7050c76c72bc4d7655"
   },
   "outputs": [],
   "source": [
    "y_pred = tf.nn.softmax(logits)\n",
    "y_pred_cls = tf.argmax(y_pred, axis=1)\n",
    "y_pred_cls = tf.to_float(y_pred_cls)"
   ]
  },
  {
   "cell_type": "markdown",
   "metadata": {
    "_uuid": "e753b7fe2673c5f19f05036aacd005a0b6b947b7"
   },
   "source": [
    "# **Cost Function**"
   ]
  },
  {
   "cell_type": "code",
   "execution_count": 13,
   "metadata": {
    "_uuid": "e521ff6f58eb1414787cba211377214699b199a5"
   },
   "outputs": [],
   "source": [
    "cross_entropy = tf.nn.softmax_cross_entropy_with_logits_v2(logits=logits,\n",
    "                                                           labels=y_true)\n",
    "cost = tf.reduce_mean(cross_entropy)\n",
    "optimizer = tf.train.GradientDescentOptimizer(learning_rate=0.5).minimize(cost)"
   ]
  },
  {
   "cell_type": "code",
   "execution_count": 14,
   "metadata": {
    "_uuid": "9f19e9932b58e2bbe5f99ff73a28bd7ebcfc8f8f"
   },
   "outputs": [],
   "source": [
    "correct_prediction = tf.equal(y_pred_cls, y_true_cls)\n",
    "accuracy = tf.reduce_mean(tf.cast(correct_prediction, tf.float32))"
   ]
  },
  {
   "cell_type": "markdown",
   "metadata": {},
   "source": [
    "# Mini Batch Function"
   ]
  },
  {
   "cell_type": "code",
   "execution_count": 15,
   "metadata": {},
   "outputs": [],
   "source": [
    "def random_mini_batches(X,Y, batch_size):\n",
    "    \n",
    "    m = X.shape[0]\n",
    "    num_of_batches= math.floor(m/batch_size)\n",
    "    minibatches=[]\n",
    "    \n",
    "    for i in range(0,num_of_batches):\n",
    "        min_X = X[ i*batch_size: (i+1)*batch_size , :]\n",
    "        min_Y = Y[ i*batch_size: (i+1)*batch_size , :]\n",
    "    \n",
    "        mini_batch =(min_X , min_Y)\n",
    "        minibatches.append(mini_batch)\n",
    "    \n",
    "    if m%batch_size !=0:\n",
    "        min_X = X[:(m-batch_size*num_of_batches), :]\n",
    "        min_Y = Y[:(m-batch_size*num_of_batches), :]\n",
    "        \n",
    "        mini_batch =(min_X , min_Y)\n",
    "        minibatches.append(mini_batch)\n",
    "        \n",
    "    return minibatches"
   ]
  },
  {
   "cell_type": "code",
   "execution_count": 16,
   "metadata": {
    "_uuid": "597abd944a35e0c9362b5b42545f17d9a6af1dc9"
   },
   "outputs": [],
   "source": [
    "feed_dict_test = {x: X_test_images,\n",
    "                  y_true: Test_labels,\n",
    "                  y_true_cls: Y_test}"
   ]
  },
  {
   "cell_type": "markdown",
   "metadata": {},
   "source": [
    "# Helper Functions"
   ]
  },
  {
   "cell_type": "code",
   "execution_count": 17,
   "metadata": {},
   "outputs": [],
   "source": [
    "def Optimize(num_iterations):\n",
    "    \n",
    "    for i in range(num_iterations):\n",
    "        miniBATCH = random_mini_batches(X_train_images , Train_labels , 128)\n",
    "        for batch in miniBATCH:\n",
    "            (min_X , min_Y) = batch\n",
    "            sess.run(optimizer , feed_dict={x:min_X , y_true:min_Y})\n",
    "        if i%20==0:\n",
    "            print_accuracy()\n",
    "            \n",
    "\"------------------------------------------------XXXXXXXXXXXXX------------------------------------------------------\"\n",
    "        \n",
    "def print_accuracy():\n",
    "    # Use TensorFlow to compute the accuracy.\n",
    "    acc = sess.run(accuracy, feed_dict=feed_dict_test)\n",
    "    \n",
    "    # Print the accuracy.\n",
    "    print(\"Accuracy on test-set: {0:.1%}\".format(acc))\n",
    "    \n",
    "\n",
    "\"-------------------------------------------------XXXXXXXXXXXXX-------------------------------------------------------\"\n",
    "\n",
    "def print_confusion_matrix():\n",
    "    \n",
    "    cls_true = Y_test\n",
    "    class_pred= sess.run(y_pred_cls , feed_dict=feed_dict_test)\n",
    "    \n",
    "    cm = confusion_matrix(cls_true, class_pred)\n",
    "    print(cm)\n",
    "    \n",
    "    plt.imshow(cm , interpolation='nearest' , cmap= plt.cm.Blues )\n",
    "    \n",
    "    plt.tight_layout()\n",
    "    plt.colorbar()\n",
    "    tick_marks = np.arange(10)\n",
    "    plt.xticks(tick_marks, range(10))\n",
    "    plt.yticks(tick_marks, range(10))\n",
    "    plt.xlabel('Predicted')\n",
    "    plt.ylabel('True')\n",
    "    \n",
    "    # Ensure the plot is shown correctly with multiple plots\n",
    "    # in a single Notebook cell.\n",
    "    plt.show()\n",
    "    \n",
    "\n",
    "\"------------------------------------------------------XXXXXXXXXXXXXXXXXXXXXX------------------------------------------\"    \n",
    "    \n",
    "        \n",
    "            \n",
    "def plot_images(image , cls_true , cls_pred):\n",
    "    \n",
    "    assert len(image) == len(cls_true)==9\n",
    "    fig , axes = plt.subplots(3,3)\n",
    "    fig.subplots_adjust(hspace=0.3, wspace=0.3)\n",
    "    \n",
    "    for i , axe in enumerate(axes.flat):\n",
    "        axe.imshow(image[i] , cmap='binary')\n",
    "        \n",
    "        if cls_pred is not None:\n",
    "            xlabel = 'True:{}  Pred:{}'.format(cls_true[i] , cls_pred[i])\n",
    "        else:\n",
    "            xlabel = 'True:{}'.format(cls_true[i])\n",
    "            \n",
    "        \n",
    "        axe.set_xlabel(xlabel)\n",
    "        \n",
    "        # Remove ticks from the plot.\n",
    "        axe.set_xticks([])\n",
    "        axe.set_yticks([])\n",
    "        \n",
    "        \n",
    "    plt.show()\n",
    "    \n",
    "\n",
    "    \n",
    "\"-------------------------------------------XXXXXXXXXXXXXXXXXXXXXXX-------------------------------------------------\"\n",
    "    \n",
    "\n",
    "def plot_example_errors():\n",
    "    \n",
    "    correct , cls_pred = sess.run([correct_prediction , y_pred_cls], feed_dict=feed_dict_test)\n",
    "    # Negate the boolean array.\n",
    "    incorrect = (correct == False)\n",
    "    \n",
    "    \n",
    "    # Get the images from the test-set that have been\n",
    "    # incorrectly classified.\n",
    "    images = X_test[incorrect]\n",
    "    cls_true = Y_test[incorrect]\n",
    "    # Get the predicted classes for those images.\n",
    "    pred = cls_pred[incorrect]\n",
    "\n",
    "    plot_images(image=images[0:9],\n",
    "                cls_true=cls_true[0:9],\n",
    "                cls_pred=pred[0:9])\n",
    "    \n",
    "    \n",
    "\"------------------------------------------------------------XXXXXXXXXXXXXXXXXXX----------------------------------------\"\n",
    "\n",
    "def plot_weights():\n",
    "    # Get the values for the weights from the TensorFlow variable.\n",
    "    w = sess.run(weights)\n",
    "    \n",
    "    # Get the lowest and highest values for the weights.\n",
    "    # This is used to correct the colour intensity across\n",
    "    # the images so they can be compared with each other.\n",
    "    w_min = np.min(w)\n",
    "    w_max = np.max(w)\n",
    "\n",
    "    # Create figure with 3x4 sub-plots,\n",
    "    # where the last 2 sub-plots are unused.\n",
    "    fig, axes = plt.subplots(2, 5)\n",
    "    fig.subplots_adjust(hspace=0.3, wspace=0.3)\n",
    "\n",
    "    for i, ax in enumerate(axes.flat):\n",
    "        # Only use the weights for the first 10 sub-plots.\n",
    "        if i<10:\n",
    "            # Get the weights for the i'th digit and reshape it.\n",
    "            # Note that w.shape == (img_size_flat, 10)\n",
    "            image = w[:, i].reshape(28,28)\n",
    "\n",
    "            # Set the label for the sub-plot.\n",
    "            ax.set_xlabel(\"Weights: {0}\".format(i))\n",
    "\n",
    "            # Plot the image.\n",
    "            ax.imshow(image, vmin=w_min, vmax=w_max, cmap='seismic')\n",
    "\n",
    "        # Remove ticks from each sub-plot.\n",
    "        ax.set_xticks([])\n",
    "        ax.set_yticks([])\n",
    "        \n",
    "    # Ensure the plot is shown correctly with multiple plots\n",
    "    # in a single Notebook cell.\n",
    "    plt.show()\n",
    "    \n",
    "\n"
   ]
  },
  {
   "cell_type": "code",
   "execution_count": 18,
   "metadata": {},
   "outputs": [
    {
     "data": {
      "image/png": "[encoded data removed]",
      "text/plain": [
       "<matplotlib.figure.Figure at 0x12ffe3080f0>"
      ]
     },
     "metadata": {},
     "output_type": "display_data"
    }
   ],
   "source": [
    "# Get the first images from the test-set.\n",
    "images = X_test[0:9]\n",
    "\n",
    "# Get the true classes for those images.\n",
    "cls_true = Y_test[0:9]\n",
    "\n",
    "# Plot the images and labels using our helper-function above.\n",
    "plot_images(image=images, cls_true=cls_true ,cls_pred=None)"
   ]
  },
  {
   "cell_type": "code",
   "execution_count": 19,
   "metadata": {},
   "outputs": [],
   "source": [
    "sess = tf.Session()\n",
    "sess.run(tf.global_variables_initializer())"
   ]
  },
  {
   "cell_type": "code",
   "execution_count": 20,
   "metadata": {
    "_uuid": "85362441dbf81e9d235d0733010ba524f4e00df2"
   },
   "outputs": [
    {
     "name": "stdout",
     "output_type": "stream",
     "text": [
      "Accuracy on test-set: 90.3%\n",
      "Accuracy on test-set: 91.8%\n",
      "Accuracy on test-set: 91.8%\n",
      "Accuracy on test-set: 91.7%\n",
      "Accuracy on test-set: 91.8%\n",
      "Accuracy on test-set: 91.8%\n",
      "Accuracy on test-set: 91.7%\n",
      "Accuracy on test-set: 91.7%\n",
      "Accuracy on test-set: 91.7%\n",
      "Accuracy on test-set: 91.7%\n"
     ]
    }
   ],
   "source": [
    "Optimize(200)"
   ]
  },
  {
   "cell_type": "code",
   "execution_count": 21,
   "metadata": {},
   "outputs": [
    {
     "data": {
      "image/png": "[encoded data removed]",
      "text/plain": [
       "<matplotlib.figure.Figure at 0x12ffe2bde48>"
      ]
     },
     "metadata": {},
     "output_type": "display_data"
    }
   ],
   "source": [
    "plot_weights()"
   ]
  },
  {
   "cell_type": "code",
   "execution_count": 22,
   "metadata": {},
   "outputs": [
    {
     "name": "stdout",
     "output_type": "stream",
     "text": [
      "[[ 957    0    0    2    1   13    3    3    1    0]\n",
      " [   0 1121    4    1    0    2    3    1    3    0]\n",
      " [   8   16  910   24   11    7   11   11   30    4]\n",
      " [   4    2   15  891    2   56    2   10   15   13]\n",
      " [   1    3    5    3  903    0    8    4    6   49]\n",
      " [   7    3    2   16    7  819   11    5   19    3]\n",
      " [  10    4    7    2    4   36  892    2    1    0]\n",
      " [   1   10   21    5    6    3    0  925    2   55]\n",
      " [   9   17    6   26    8   61    9   11  806   21]\n",
      " [   8    8    1    7   16   12    0   10    2  945]]\n"
     ]
    },
    {
     "data": {
      "image/png": "[encoded data removed]",
      "text/plain": [
       "<matplotlib.figure.Figure at 0x12f82901588>"
      ]
     },
     "metadata": {},
     "output_type": "display_data"
    }
   ],
   "source": [
    "print_confusion_matrix()"
   ]
  },
  {
   "cell_type": "code",
   "execution_count": 23,
   "metadata": {},
   "outputs": [
    {
     "data": {
      "image/png": "[encoded data removed]",
      "text/plain": [
       "<matplotlib.figure.Figure at 0x12f8279bd30>"
      ]
     },
     "metadata": {},
     "output_type": "display_data"
    }
   ],
   "source": [
    "plot_example_errors()"
   ]
  }
 ],
 "metadata": {
  "kernelspec": {
   "display_name": "Python 3",
   "language": "python",
   "name": "python3"
  },
  "language_info": {
   "codemirror_mode": {
    "name": "ipython",
    "version": 3
   },
   "file_extension": ".py",
   "mimetype": "text/x-python",
   "name": "python",
   "nbconvert_exporter": "python",
   "pygments_lexer": "ipython3",
   "version": "3.6.1"
  }
 },
 "nbformat": 4,
 "nbformat_minor": 1
}
