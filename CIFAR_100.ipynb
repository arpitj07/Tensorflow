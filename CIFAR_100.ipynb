{
  "nbformat": 4,
  "nbformat_minor": 0,
  "metadata": {
    "colab": {
      "name": "CIFAR_100.ipynb",
      "version": "0.3.2",
      "provenance": [],
      "collapsed_sections": [],
      "include_colab_link": true
    },
    "kernelspec": {
      "name": "python3",
      "display_name": "Python 3"
    },
    "accelerator": "GPU"
  },
  "cells": [
    {
      "cell_type": "markdown",
      "metadata": {
        "id": "view-in-github",
        "colab_type": "text"
      },
      "source": [
        "<a href=\"https://colab.research.google.com/github/arpitj07/Tensorflow/blob/master/CIFAR_100.ipynb\" target=\"_parent\"><img src=\"https://colab.research.google.com/assets/colab-badge.svg\" alt=\"Open In Colab\"/></a>"
      ]
    },
    {
      "metadata": {
        "id": "fG4qqLyrLHzJ",
        "colab_type": "code",
        "outputId": "42142203-d11c-4807-ee67-17b50ba39883",
        "colab": {
          "base_uri": "https://localhost:8080/",
          "height": 121
        }
      },
      "cell_type": "code",
      "source": [
        "from google.colab import drive \n",
        "drive.mount(\"/content/drive\")"
      ],
      "execution_count": 0,
      "outputs": [
        {
          "output_type": "stream",
          "text": [
            "Go to this URL in a browser: https://accounts.google.com/o/oauth2/auth?client_id=947318989803-6bn6qk8qdgf4n4g3pfee6491hc0brc4i.apps.googleusercontent.com&redirect_uri=urn%3Aietf%3Awg%3Aoauth%3A2.0%3Aoob&scope=email%20https%3A%2F%2Fwww.googleapis.com%2Fauth%2Fdocs.test%20https%3A%2F%2Fwww.googleapis.com%2Fauth%2Fdrive%20https%3A%2F%2Fwww.googleapis.com%2Fauth%2Fdrive.photos.readonly%20https%3A%2F%2Fwww.googleapis.com%2Fauth%2Fpeopleapi.readonly&response_type=code\n",
            "\n",
            "Enter your authorization code:\n",
            "··········\n",
            "Mounted at /content/drive\n"
          ],
          "name": "stdout"
        }
      ]
    },
    {
      "metadata": {
        "id": "JpIU1OPjNkzc",
        "colab_type": "code",
        "outputId": "e894ad6f-4d68-40dd-f25d-1f01496837f4",
        "colab": {
          "base_uri": "https://localhost:8080/",
          "height": 34
        }
      },
      "cell_type": "code",
      "source": [
        "cd \"/content/drive/My Drive/CIFAR-100\""
      ],
      "execution_count": 0,
      "outputs": [
        {
          "output_type": "stream",
          "text": [
            "/content/drive/My Drive/CIFAR-100\n"
          ],
          "name": "stdout"
        }
      ]
    },
    {
      "metadata": {
        "id": "kcjdholsN23p",
        "colab_type": "code",
        "colab": {}
      },
      "cell_type": "code",
      "source": [
        "#!pip install kaggle\n",
        "import json\n",
        "import zipfile\n",
        "import os\n",
        "\n",
        "import numpy as np \n",
        "import pandas as pd \n",
        "import matplotlib.pyplot as plt\n",
        "import seaborn as sns\n",
        "import tensorflow as tf\n",
        "import tensorflow.nn as nn\n",
        "\n",
        "import math\n",
        "import time\n"
      ],
      "execution_count": 0,
      "outputs": []
    },
    {
      "metadata": {
        "id": "0PDSqAQDRhY5",
        "colab_type": "text"
      },
      "cell_type": "markdown",
      "source": [
        "[Kaggle API access example ](https://colab.research.google.com/drive/1DofKEdQYaXmDWBzuResXWWvxhLgDeVyl#scrollTo=cDLXrqcNGlU7)"
      ]
    },
    {
      "metadata": {
        "id": "HyEzyFHCSN-Z",
        "colab_type": "code",
        "outputId": "02ad367b-6d9e-42ff-837c-d86d1fc91938",
        "colab": {
          "resources": {
            "http://localhost:8080/nbextensions/google.colab/files.js": {
              "data": "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",
              "ok": true,
              "headers": [
                [
                  "content-type",
                  "application/javascript"
                ]
              ],
              "status": 200,
              "status_text": ""
            }
          },
          "base_uri": "https://localhost:8080/",
          "height": 90
        }
      },
      "cell_type": "code",
      "source": [
        "from google.colab import files \n",
        "files.upload()"
      ],
      "execution_count": 0,
      "outputs": [
        {
          "output_type": "display_data",
          "data": {
            "text/html": [
              "\n",
              "     <input type=\"file\" id=\"files-7d29a2d0-d218-44da-9bdb-eaf0089ee7fc\" name=\"files[]\" multiple disabled />\n",
              "     <output id=\"result-7d29a2d0-d218-44da-9bdb-eaf0089ee7fc\">\n",
              "      Upload widget is only available when the cell has been executed in the\n",
              "      current browser session. Please rerun this cell to enable.\n",
              "      </output>\n",
              "      <script src=\"/nbextensions/google.colab/files.js\"></script> "
            ],
            "text/plain": [
              "<IPython.core.display.HTML object>"
            ]
          },
          "metadata": {
            "tags": []
          }
        },
        {
          "output_type": "stream",
          "text": [
            "Saving kaggle.json to kaggle (3).json\n"
          ],
          "name": "stdout"
        },
        {
          "output_type": "execute_result",
          "data": {
            "text/plain": [
              "{'kaggle.json': b'{\"username\":\"arpitjain007\",\"key\":\"cdbde8ffb2ec61e4949739228b931485\"}'}"
            ]
          },
          "metadata": {
            "tags": []
          },
          "execution_count": 4
        }
      ]
    },
    {
      "metadata": {
        "id": "anI3nRlESliQ",
        "colab_type": "code",
        "outputId": "715702a9-3e1d-49cf-82f2-11a12d5d3295",
        "colab": {
          "base_uri": "https://localhost:8080/",
          "height": 34
        }
      },
      "cell_type": "code",
      "source": [
        "# Next, install the Kaggle API client.\n",
        "!pip install -q kaggle\n",
        "\n",
        "# Let's make sure the kaggle.json file is present.\n",
        "!ls -lha kaggle.json"
      ],
      "execution_count": 0,
      "outputs": [
        {
          "output_type": "stream",
          "text": [
            "-rw------- 1 root root 68 Jan 10 11:58 kaggle.json\n"
          ],
          "name": "stdout"
        }
      ]
    },
    {
      "metadata": {
        "id": "PTCKXO0aQWPi",
        "colab_type": "code",
        "colab": {}
      },
      "cell_type": "code",
      "source": [
        "# The Kaggle API client expects this file to be in ~/.kaggle,\n",
        "# so move it there.\n",
        "!mkdir -p ~/.kaggle\n",
        "!cp kaggle.json ~/.kaggle/\n",
        "\n",
        "# This permissions change avoids a warning on Kaggle tool startup.\n",
        "!chmod 600 ~/.kaggle/kaggle.json"
      ],
      "execution_count": 0,
      "outputs": []
    },
    {
      "metadata": {
        "id": "muQOIOD4QaJ_",
        "colab_type": "code",
        "colab": {}
      },
      "cell_type": "code",
      "source": [
        "# List available datasets.\n",
        "#!kaggle datasets list"
      ],
      "execution_count": 0,
      "outputs": []
    },
    {
      "metadata": {
        "id": "R0grhQA-R4vh",
        "colab_type": "code",
        "outputId": "19e23b31-6105-461d-f59a-e2063c02389a",
        "colab": {
          "base_uri": "https://localhost:8080/",
          "height": 34
        }
      },
      "cell_type": "code",
      "source": [
        "!kaggle datasets download -d pavansanagapati/cifar100"
      ],
      "execution_count": 0,
      "outputs": [
        {
          "output_type": "stream",
          "text": [
            "cifar100.zip: Skipping, found more recently modified local copy (use --force to force download)\n"
          ],
          "name": "stdout"
        }
      ]
    },
    {
      "metadata": {
        "id": "3XmP79C9UJF8",
        "colab_type": "code",
        "outputId": "cfef4ae2-7cf8-4905-855e-1101db6e0791",
        "colab": {
          "base_uri": "https://localhost:8080/",
          "height": 67
        }
      },
      "cell_type": "code",
      "source": [
        "!unzip cifar100.zip"
      ],
      "execution_count": 0,
      "outputs": [
        {
          "output_type": "stream",
          "text": [
            "Archive:  cifar100.zip\n",
            "replace cifar-100-python.tar.gz? [y]es, [n]o, [A]ll, [N]one, [r]ename: y\n",
            "  inflating: cifar-100-python.tar.gz  \n"
          ],
          "name": "stdout"
        }
      ]
    },
    {
      "metadata": {
        "id": "fdiEwixlsgIK",
        "colab_type": "text"
      },
      "cell_type": "markdown",
      "source": [
        "**[Opening tar.gz file in Pyhton](https://community.esri.com/thread/189469-re-unzip-files-from-directory-tree?commentID=662700&et=watches.email.thread#comment-662700)**\n",
        "\n",
        "--\n"
      ]
    },
    {
      "metadata": {
        "id": "A1EaYcs6XcUA",
        "colab_type": "code",
        "outputId": "9b8f7d27-251b-412d-899e-78a704de1b53",
        "colab": {
          "base_uri": "https://localhost:8080/",
          "height": 34
        }
      },
      "cell_type": "code",
      "source": [
        "import tarfile,fnmatch,os\n",
        "\n",
        "rootPath = r\"/content/drive/My Drive/CIFAR-100\"\n",
        "pattern = '*.tar.gz'\n",
        "\n",
        "\n",
        "for root, dirs, files in os.walk(rootPath):\n",
        "  for filename in fnmatch.filter(files, pattern):\n",
        "    print(os.path.join(root, filename))\n",
        "    \n",
        "    tarfile.open(os.path.join(root, filename)).extractall(os.path.join(root, filename.split(\".\")[0]))"
      ],
      "execution_count": 0,
      "outputs": [
        {
          "output_type": "stream",
          "text": [
            "/content/drive/My Drive/CIFAR-100/cifar-100-python.tar.gz\n"
          ],
          "name": "stdout"
        }
      ]
    },
    {
      "metadata": {
        "id": "2KqWvJ6usMFM",
        "colab_type": "code",
        "colab": {}
      },
      "cell_type": "code",
      "source": [
        "import pickle\n",
        "\n",
        "#Fucntion to load each batch as dict\n",
        "\n",
        "def unpickle(file):\n",
        "    \n",
        "    fo = open(file, 'rb')\n",
        "    dict = pickle.load(fo , encoding ='latin1')\n",
        "    fo.close()\n",
        "    return dict"
      ],
      "execution_count": 0,
      "outputs": []
    },
    {
      "metadata": {
        "id": "4WdfxL_-vSvt",
        "colab_type": "code",
        "colab": {}
      },
      "cell_type": "code",
      "source": [
        "train = unpickle(\"cifar-100-python/cifar-100-python/train\")\n",
        "\n",
        "test = unpickle(\"cifar-100-python/cifar-100-python/test\")"
      ],
      "execution_count": 0,
      "outputs": []
    },
    {
      "metadata": {
        "id": "L5SU90fUvlWC",
        "colab_type": "code",
        "outputId": "b2cc2a0d-f9da-4eb3-8d20-989bb871f4bb",
        "colab": {
          "base_uri": "https://localhost:8080/",
          "height": 67
        }
      },
      "cell_type": "code",
      "source": [
        "print(\"train data shape:\",train['data'].shape)\n",
        "\n",
        "print(\"test data shape\", test['data'].shape)\n",
        "\n",
        "print(\"Labels shape\", len(train['fine_labels']))"
      ],
      "execution_count": 0,
      "outputs": [
        {
          "output_type": "stream",
          "text": [
            "train data shape: (50000, 3072)\n",
            "test data shape (10000, 3072)\n",
            "Labels shape 50000\n"
          ],
          "name": "stdout"
        }
      ]
    },
    {
      "metadata": {
        "id": "tAl_yVjXwKGO",
        "colab_type": "code",
        "colab": {}
      },
      "cell_type": "code",
      "source": [
        "df_train = pd.DataFrame(train[\"data\"])\n",
        "df_train[\"image\"] = df_train.as_matrix().tolist()\n",
        "df_train.drop(range(3072),axis=1,inplace=True)"
      ],
      "execution_count": 0,
      "outputs": []
    },
    {
      "metadata": {
        "id": "38v4hv3Gwvlx",
        "colab_type": "code",
        "outputId": "4520dec2-bb29-4ff9-8096-28cc2bfb0efe",
        "colab": {
          "base_uri": "https://localhost:8080/",
          "height": 195
        }
      },
      "cell_type": "code",
      "source": [
        "df_train.head()"
      ],
      "execution_count": 0,
      "outputs": [
        {
          "output_type": "execute_result",
          "data": {
            "text/html": [
              "<div>\n",
              "<style scoped>\n",
              "    .dataframe tbody tr th:only-of-type {\n",
              "        vertical-align: middle;\n",
              "    }\n",
              "\n",
              "    .dataframe tbody tr th {\n",
              "        vertical-align: top;\n",
              "    }\n",
              "\n",
              "    .dataframe thead th {\n",
              "        text-align: right;\n",
              "    }\n",
              "</style>\n",
              "<table border=\"1\" class=\"dataframe\">\n",
              "  <thead>\n",
              "    <tr style=\"text-align: right;\">\n",
              "      <th></th>\n",
              "      <th>image</th>\n",
              "    </tr>\n",
              "  </thead>\n",
              "  <tbody>\n",
              "    <tr>\n",
              "      <th>0</th>\n",
              "      <td>[255, 255, 255, 255, 255, 255, 255, 255, 255, ...</td>\n",
              "    </tr>\n",
              "    <tr>\n",
              "      <th>1</th>\n",
              "      <td>[255, 253, 253, 253, 253, 253, 253, 253, 253, ...</td>\n",
              "    </tr>\n",
              "    <tr>\n",
              "      <th>2</th>\n",
              "      <td>[250, 248, 247, 248, 249, 249, 248, 248, 247, ...</td>\n",
              "    </tr>\n",
              "    <tr>\n",
              "      <th>3</th>\n",
              "      <td>[124, 131, 135, 138, 140, 144, 148, 152, 156, ...</td>\n",
              "    </tr>\n",
              "    <tr>\n",
              "      <th>4</th>\n",
              "      <td>[43, 32, 87, 127, 55, 48, 51, 87, 121, 113, 13...</td>\n",
              "    </tr>\n",
              "  </tbody>\n",
              "</table>\n",
              "</div>"
            ],
            "text/plain": [
              "                                               image\n",
              "0  [255, 255, 255, 255, 255, 255, 255, 255, 255, ...\n",
              "1  [255, 253, 253, 253, 253, 253, 253, 253, 253, ...\n",
              "2  [250, 248, 247, 248, 249, 249, 248, 248, 247, ...\n",
              "3  [124, 131, 135, 138, 140, 144, 148, 152, 156, ...\n",
              "4  [43, 32, 87, 127, 55, 48, 51, 87, 121, 113, 13..."
            ]
          },
          "metadata": {
            "tags": []
          },
          "execution_count": 15
        }
      ]
    },
    {
      "metadata": {
        "id": "z8Fjfgo_wzLD",
        "colab_type": "code",
        "outputId": "8f1dea3d-5e57-4661-8db3-77ffe3bc6f6e",
        "colab": {
          "base_uri": "https://localhost:8080/",
          "height": 195
        }
      },
      "cell_type": "code",
      "source": [
        "df_test = pd.DataFrame(test[\"data\"])\n",
        "df_test[\"image\"] = df_test.as_matrix().tolist()\n",
        "df_test.drop(range(3072),axis=1,inplace=True)\n",
        "\n",
        "\n",
        "df_test.head()"
      ],
      "execution_count": 0,
      "outputs": [
        {
          "output_type": "execute_result",
          "data": {
            "text/html": [
              "<div>\n",
              "<style scoped>\n",
              "    .dataframe tbody tr th:only-of-type {\n",
              "        vertical-align: middle;\n",
              "    }\n",
              "\n",
              "    .dataframe tbody tr th {\n",
              "        vertical-align: top;\n",
              "    }\n",
              "\n",
              "    .dataframe thead th {\n",
              "        text-align: right;\n",
              "    }\n",
              "</style>\n",
              "<table border=\"1\" class=\"dataframe\">\n",
              "  <thead>\n",
              "    <tr style=\"text-align: right;\">\n",
              "      <th></th>\n",
              "      <th>image</th>\n",
              "    </tr>\n",
              "  </thead>\n",
              "  <tbody>\n",
              "    <tr>\n",
              "      <th>0</th>\n",
              "      <td>[199, 196, 195, 195, 196, 197, 198, 198, 199, ...</td>\n",
              "    </tr>\n",
              "    <tr>\n",
              "      <th>1</th>\n",
              "      <td>[113, 88, 72, 63, 72, 100, 131, 149, 139, 132,...</td>\n",
              "    </tr>\n",
              "    <tr>\n",
              "      <th>2</th>\n",
              "      <td>[61, 61, 67, 62, 64, 63, 70, 73, 78, 88, 85, 7...</td>\n",
              "    </tr>\n",
              "    <tr>\n",
              "      <th>3</th>\n",
              "      <td>[93, 88, 104, 90, 74, 70, 70, 75, 77, 60, 61, ...</td>\n",
              "    </tr>\n",
              "    <tr>\n",
              "      <th>4</th>\n",
              "      <td>[80, 80, 82, 86, 92, 97, 96, 97, 98, 99, 100, ...</td>\n",
              "    </tr>\n",
              "  </tbody>\n",
              "</table>\n",
              "</div>"
            ],
            "text/plain": [
              "                                               image\n",
              "0  [199, 196, 195, 195, 196, 197, 198, 198, 199, ...\n",
              "1  [113, 88, 72, 63, 72, 100, 131, 149, 139, 132,...\n",
              "2  [61, 61, 67, 62, 64, 63, 70, 73, 78, 88, 85, 7...\n",
              "3  [93, 88, 104, 90, 74, 70, 70, 75, 77, 60, 61, ...\n",
              "4  [80, 80, 82, 86, 92, 97, 96, 97, 98, 99, 100, ..."
            ]
          },
          "metadata": {
            "tags": []
          },
          "execution_count": 16
        }
      ]
    },
    {
      "metadata": {
        "id": "bZssztiR0p0d",
        "colab_type": "text"
      },
      "cell_type": "markdown",
      "source": [
        "**Data Preprocessing**"
      ]
    },
    {
      "metadata": {
        "id": "LQKNiiDTxNdJ",
        "colab_type": "code",
        "outputId": "00991b91-6e04-47f5-e101-855f1e08caf3",
        "colab": {
          "base_uri": "https://localhost:8080/",
          "height": 398
        }
      },
      "cell_type": "code",
      "source": [
        "feautures = train['data'].reshape([len(df_train[\"image\"]),32,32,3])\n",
        "print(feautures.shape)\n",
        "\n",
        "test_features = test['data'].reshape([len(df_test['image']),32,32,3])\n",
        "print(test_features.shape)\n",
        "plt.imshow(test_features[0])"
      ],
      "execution_count": 0,
      "outputs": [
        {
          "output_type": "stream",
          "text": [
            "(50000, 32, 32, 3)\n",
            "(10000, 32, 32, 3)\n"
          ],
          "name": "stdout"
        },
        {
          "output_type": "execute_result",
          "data": {
            "text/plain": [
              "<matplotlib.image.AxesImage at 0x7fab47203f28>"
            ]
          },
          "metadata": {
            "tags": []
          },
          "execution_count": 17
        },
        {
          "output_type": "display_data",
          "data": {
            "image/png": "[encoded data removed]",
            "text/plain": [
              "<matplotlib.figure.Figure at 0x7fab856b40b8>"
            ]
          },
          "metadata": {
            "tags": []
          }
        }
      ]
    },
    {
      "metadata": {
        "id": "mjsQns-81VwL",
        "colab_type": "code",
        "colab": {}
      },
      "cell_type": "code",
      "source": [
        "Labels = train['fine_labels']\n",
        "Test_Labels = test['fine_labels']"
      ],
      "execution_count": 0,
      "outputs": []
    },
    {
      "metadata": {
        "id": "_UT5wjzQ2LCE",
        "colab_type": "code",
        "colab": {}
      },
      "cell_type": "code",
      "source": [
        "feautures = feautures/255\n",
        "test_features = test_features/255"
      ],
      "execution_count": 0,
      "outputs": []
    },
    {
      "metadata": {
        "id": "ywyQiqSS6gtV",
        "colab_type": "text"
      },
      "cell_type": "markdown",
      "source": [
        "# **Helper Functions**"
      ]
    },
    {
      "metadata": {
        "id": "9ghWmLTY2XK8",
        "colab_type": "code",
        "colab": {}
      },
      "cell_type": "code",
      "source": [
        "def one_hot_code(x):\n",
        "    \n",
        "    encoded = np.zeros((len(x),100))\n",
        "    for idx , val in enumerate(x):\n",
        "        encoded[idx][val]=1 \n",
        "        \n",
        "    return encoded\n",
        "\n",
        "  \n",
        "  \n",
        "  \n",
        "def mini_batches(X,Y, minibatch_size):\n",
        "    \n",
        "    m = X.shape[0]\n",
        "    miniBatch_X = []\n",
        "    miniBatch_Y = []\n",
        "    permutation = list(np.random.permutation(m))\n",
        "    \n",
        "    #shuffling the data\n",
        "    shuffled_X = X[permutation,:]\n",
        "    shuffled_Y = Y[permutation,:]\n",
        "    \n",
        "    number_of_batches = math.floor(m/minibatch_size)\n",
        "    \n",
        "    for i in range(0, number_of_batches):\n",
        "        \n",
        "        minibatch_X = shuffled_X[ i*minibatch_size: (i+1)*minibatch_size , :]\n",
        "        minibatch_Y = shuffled_Y[ i*minibatch_size: (i+1)*minibatch_size , :]\n",
        "        \n",
        "        miniBatch_X.append(minibatch_X) \n",
        "        miniBatch_Y.append(minibatch_Y)\n",
        "        \n",
        "        \n",
        "    # handling last batch of the set\n",
        "    \n",
        "    if m% minibatch_size !=0:\n",
        "        \n",
        "        minibatch_X = shuffled_X[:(m-(number_of_batches*minibatch_size)) , :]\n",
        "        minibatch_Y = shuffled_Y[:(m-(number_of_batches*minibatch_size)) , :]\n",
        "        \n",
        "        miniBatch_X.append(minibatch_X) \n",
        "        miniBatch_Y.append(minibatch_Y)\n",
        "        \n",
        "    return miniBatch_X , miniBatch_Y\n"
      ],
      "execution_count": 0,
      "outputs": []
    },
    {
      "metadata": {
        "id": "8mQy6Erm2aDU",
        "colab_type": "code",
        "colab": {}
      },
      "cell_type": "code",
      "source": [
        "#np.seterr(divide='ignore', invalid='ignore')\n",
        "\n",
        "Labels = one_hot_code(Labels)\n",
        "Test_Labels = one_hot_code(Test_Labels)"
      ],
      "execution_count": 0,
      "outputs": []
    },
    {
      "metadata": {
        "id": "FDoaOlbdYlVF",
        "colab_type": "code",
        "outputId": "8e5d3a7b-de62-451e-9c5b-f425e00d00dc",
        "colab": {
          "base_uri": "https://localhost:8080/",
          "height": 34
        }
      },
      "cell_type": "code",
      "source": [
        "Test_Labels.shape"
      ],
      "execution_count": 0,
      "outputs": [
        {
          "output_type": "execute_result",
          "data": {
            "text/plain": [
              "(10000, 100)"
            ]
          },
          "metadata": {
            "tags": []
          },
          "execution_count": 22
        }
      ]
    },
    {
      "metadata": {
        "id": "IaoeyVIS4ThQ",
        "colab_type": "code",
        "colab": {}
      },
      "cell_type": "code",
      "source": [
        "tf.reset_default_graph()\n",
        "\n",
        "X= tf.placeholder(tf.float32 , shape = (None, 32,32,3) , name='X')\n",
        "Y = tf.placeholder(tf.float32 , shape = (None, 100) , name='Y')\n",
        "\n",
        "\n",
        "def model(input):\n",
        "  \n",
        "  conv1_filter = tf.Variable(tf.truncated_normal(shape=[3,3,3,32], mean=0 ,stddev=0.08))\n",
        "  conv2_filter = tf.Variable(tf.truncated_normal(shape=[3,3,32,64], mean=0 ,stddev=0.08))\n",
        "  conv3_filter = tf.Variable(tf.truncated_normal(shape=[5,5,64,128], mean=0 ,stddev=0.08))\n",
        "  conv4_filter = tf.Variable(tf.truncated_normal(shape=[5,5,256,512], mean=0 ,stddev=0.08))\n",
        "  \n",
        "\n",
        "  conv_1 = nn.conv2d(input , conv1_filter , strides=[1,1,1,1], padding='SAME')\n",
        "  conv_1= nn.relu(conv_1)\n",
        "  conv_1_pool= nn.max_pool(conv_1 , ksize=[1,2,2,1] , strides=[1,2,2,1], padding='SAME')\n",
        "  conv_1_bn = tf.layers.batch_normalization(conv_1_pool)\n",
        "  \n",
        "  \n",
        "  conv_2 = nn.conv2d(conv_1_bn , conv2_filter , strides=[1,1,1,1], padding='SAME')\n",
        "  conv_2= nn.relu(conv_2)\n",
        "  conv_2_pool= nn.max_pool(conv_2 , ksize=[1,2,2,1] , strides=[1,2,2,1], padding='SAME')\n",
        "  conv_2_bn = tf.layers.batch_normalization(conv_2_pool)\n",
        "  \n",
        "  \n",
        "  conv_3 = nn.conv2d(conv_2_bn , conv3_filter , strides=[1,1,1,1], padding='SAME')\n",
        "  conv_3= nn.relu(conv_3)\n",
        "  conv_3_pool= nn.max_pool(conv_3 , ksize=[1,2,2,1] , strides=[1,2,2,1], padding='SAME')\n",
        "  conv_3_bn = tf.layers.batch_normalization(conv_3_pool)\n",
        "  \n",
        "  \n",
        "  '''conv_4 = nn.conv2d(conv_3_bn , conv4_filter , strides=[1,1,1,1], padding='SAME')\n",
        "  conv_4= nn.relu(conv_4)\n",
        "  conv_4_pool= nn.max_pool(conv_4 , ksize=[1,2,2,1] , strides=[1,2,2,1], padding='SAME')\n",
        "  conv_4_bn = tf.layers.batch_normalization(conv_4_pool)'''\n",
        "  \n",
        "  \n",
        "  flat = tf.contrib.layers.flatten(conv_3_bn)\n",
        "  \n",
        "  fc = tf.contrib.layers.fully_connected(inputs=flat, num_outputs=128, activation_fn=tf.nn.relu)\n",
        "  fc = tf.nn.dropout(fc, keep_prob=0.7)\n",
        "  fc = tf.layers.batch_normalization(fc)\n",
        "  \n",
        "  fc2 = tf.contrib.layers.fully_connected(inputs=fc, num_outputs=256, activation_fn=tf.nn.relu)\n",
        "  fc2 = tf.nn.dropout(fc2, keep_prob=0.7)\n",
        "  fc2 = tf.layers.batch_normalization(fc2)\n",
        "  \n",
        "  '''fc3 = tf.contrib.layers.fully_connected(inputs=fc2, num_outputs=512, activation_fn=tf.nn.relu)\n",
        "  fc3 = tf.nn.dropout(fc3, keep_prob=0.7)\n",
        "  fc3 = tf.layers.batch_normalization(fc3)\n",
        "  \n",
        "  fc4 = tf.contrib.layers.fully_connected(inputs=fc3, num_outputs=1024, activation_fn=tf.nn.relu)\n",
        "  fc4 = tf.nn.dropout(fc4, keep_prob=0.7)\n",
        "  fc4 = tf.layers.batch_normalization(fc4)'''\n",
        "  \n",
        "  Out = tf.contrib.layers.fully_connected(inputs=fc2 , num_outputs=100 , activation_fn=nn.relu)\n",
        "  \n",
        "  return Out \n",
        "  "
      ],
      "execution_count": 0,
      "outputs": []
    },
    {
      "metadata": {
        "id": "fNtlYLAv8m6T",
        "colab_type": "code",
        "colab": {}
      },
      "cell_type": "code",
      "source": [
        "logits = model(X)\n",
        "model = tf.identity(logits , name='Logits')"
      ],
      "execution_count": 0,
      "outputs": []
    },
    {
      "metadata": {
        "id": "ztbuxvmRISaF",
        "colab_type": "text"
      },
      "cell_type": "markdown",
      "source": [
        "**Training the model**"
      ]
    },
    {
      "metadata": {
        "id": "rz3K83mUGVaQ",
        "colab_type": "code",
        "colab": {}
      },
      "cell_type": "code",
      "source": [
        "def Training(session , optimizer , Features , Label ):\n",
        "  \n",
        "  session.run(optimizer , feed_dict={X:Features , Y:Label})\n",
        "  \n",
        "  \n",
        "def results(session , cost , accuracy , features , labels):\n",
        "  \n",
        "  loss , accu = session.run([cost, accuracy] , feed_dict={X:features , Y:labels[:5000]})\n",
        "  print(\"Loss : {} , Accuracy : {}\".format(loss , accu))"
      ],
      "execution_count": 0,
      "outputs": []
    },
    {
      "metadata": {
        "id": "OEFLCMX7NL0c",
        "colab_type": "text"
      },
      "cell_type": "markdown",
      "source": [
        "## Computing Cost"
      ]
    },
    {
      "metadata": {
        "id": "XyOH0YOSOp5j",
        "colab_type": "code",
        "outputId": "d3fe10db-e311-4f11-cc35-0e7aeeecf4b0",
        "colab": {
          "base_uri": "https://localhost:8080/",
          "height": 2470
        }
      },
      "cell_type": "code",
      "source": [
        "epochs = 50\n",
        "batch_size = 64\n",
        "learning_rate = 0.001\n",
        "\n",
        "COST = tf.reduce_mean(tf.nn.softmax_cross_entropy_with_logits(logits=logits, labels=Y))\n",
        "OPTIMIZER = tf.train.AdamOptimizer(learning_rate=learning_rate).minimize(COST)\n",
        "\n",
        "correct_pred = tf.equal(tf.argmax(logits, 1), tf.argmax(Y, 1))\n",
        "ACCURACY = tf.reduce_mean(tf.cast(correct_pred, tf.float32), name='accuracy')\n",
        "\n",
        "with tf.Session() as sess:\n",
        "  \n",
        "  sess.run(tf.global_variables_initializer())\n",
        "  \n",
        "  start_time = time.time()\n",
        "  for i in range(epochs+1):\n",
        "    print(\"Epoch {} begin....\".format(i))\n",
        "    total_size= feautures.shape[0]\n",
        "    batches = math.floor(total_size/batch_size)\n",
        "    \n",
        "    MiniBatch_X , MiniBatch_Y = mini_batches(feautures , Labels , minibatch_size=batch_size) \n",
        "    print(\"Mini batches fetched!!\")\n",
        "    \n",
        "    for j in range(0,batches):\n",
        "      \n",
        "      Training(sess , OPTIMIZER , MiniBatch_X[j] , MiniBatch_Y[j])\n",
        "    #print(\"The training loss and accuracy..\")\n",
        "    #results(sess , COST , ACCURACY , MiniBatch_X[j] , MiniBatch_Y[j])\n",
        "    #if i%20 == 0:\n",
        "    print(\"Epoch {}\".format(i))\n",
        "    \n",
        "  \n",
        "    results(sess , COST , ACCURACY , test_features[5000:10000] , Test_Labels[5000:10000])\n",
        "  print(\"\\nTraining Finish\")\n",
        "  print(\"\\nTime Elapsed: {}\".format((time.time()-start_time)))  \n",
        "  "
      ],
      "execution_count": 0,
      "outputs": [
        {
          "output_type": "stream",
          "text": [
            "Epoch 0 begin....\n",
            "Mini batches fetched!!\n",
            "Epoch 0\n",
            "Loss : 4.321787357330322 , Accuracy : 0.09059999883174896\n",
            "Epoch 1 begin....\n",
            "Mini batches fetched!!\n",
            "Epoch 1\n",
            "Loss : 3.964761257171631 , Accuracy : 0.1501999944448471\n",
            "Epoch 2 begin....\n",
            "Mini batches fetched!!\n",
            "Epoch 2\n",
            "Loss : 3.375701665878296 , Accuracy : 0.19859999418258667\n",
            "Epoch 3 begin....\n",
            "Mini batches fetched!!\n",
            "Epoch 3\n",
            "Loss : 3.257612466812134 , Accuracy : 0.22179999947547913\n",
            "Epoch 4 begin....\n",
            "Mini batches fetched!!\n",
            "Epoch 4\n",
            "Loss : 3.0777742862701416 , Accuracy : 0.24899999797344208\n",
            "Epoch 5 begin....\n",
            "Mini batches fetched!!\n",
            "Epoch 5\n",
            "Loss : 3.044609308242798 , Accuracy : 0.2635999917984009\n",
            "Epoch 6 begin....\n",
            "Mini batches fetched!!\n",
            "Epoch 6\n",
            "Loss : 2.990103244781494 , Accuracy : 0.2759999930858612\n",
            "Epoch 7 begin....\n",
            "Mini batches fetched!!\n",
            "Epoch 7\n",
            "Loss : 3.029205560684204 , Accuracy : 0.2718000113964081\n",
            "Epoch 8 begin....\n",
            "Mini batches fetched!!\n",
            "Epoch 8\n",
            "Loss : 3.080341100692749 , Accuracy : 0.2720000147819519\n",
            "Epoch 9 begin....\n",
            "Mini batches fetched!!\n",
            "Epoch 9\n",
            "Loss : 3.1548831462860107 , Accuracy : 0.2825999855995178\n",
            "Epoch 10 begin....\n",
            "Mini batches fetched!!\n",
            "Epoch 10\n",
            "Loss : 3.207551956176758 , Accuracy : 0.27239999175071716\n",
            "Epoch 11 begin....\n",
            "Mini batches fetched!!\n",
            "Epoch 11\n",
            "Loss : 3.2896528244018555 , Accuracy : 0.2736000120639801\n",
            "Epoch 12 begin....\n",
            "Mini batches fetched!!\n",
            "Epoch 12\n",
            "Loss : 3.356370687484741 , Accuracy : 0.2709999978542328\n",
            "Epoch 13 begin....\n",
            "Mini batches fetched!!\n",
            "Epoch 13\n",
            "Loss : 3.4883902072906494 , Accuracy : 0.2632000148296356\n",
            "Epoch 14 begin....\n",
            "Mini batches fetched!!\n",
            "Epoch 14\n",
            "Loss : 3.56518292427063 , Accuracy : 0.2667999863624573\n",
            "Epoch 15 begin....\n",
            "Mini batches fetched!!\n",
            "Epoch 15\n",
            "Loss : 3.606760263442993 , Accuracy : 0.2720000147819519\n",
            "Epoch 16 begin....\n",
            "Mini batches fetched!!\n",
            "Epoch 16\n",
            "Loss : 3.7728395462036133 , Accuracy : 0.26420000195503235\n",
            "Epoch 17 begin....\n",
            "Mini batches fetched!!\n",
            "Epoch 17\n",
            "Loss : 3.8060147762298584 , Accuracy : 0.26499998569488525\n",
            "Epoch 18 begin....\n",
            "Mini batches fetched!!\n",
            "Epoch 18\n",
            "Loss : 3.9016075134277344 , Accuracy : 0.2563999891281128\n",
            "Epoch 19 begin....\n",
            "Mini batches fetched!!\n",
            "Epoch 19\n",
            "Loss : 3.9159202575683594 , Accuracy : 0.2581999897956848\n",
            "Epoch 20 begin....\n",
            "Mini batches fetched!!\n",
            "Epoch 20\n",
            "Loss : 3.964827060699463 , Accuracy : 0.2639999985694885\n",
            "Epoch 21 begin....\n",
            "Mini batches fetched!!\n",
            "Epoch 21\n",
            "Loss : 4.027010440826416 , Accuracy : 0.25839999318122864\n",
            "Epoch 22 begin....\n",
            "Mini batches fetched!!\n",
            "Epoch 22\n",
            "Loss : 4.167064666748047 , Accuracy : 0.25220000743865967\n",
            "Epoch 23 begin....\n",
            "Mini batches fetched!!\n",
            "Epoch 23\n",
            "Loss : 4.20052433013916 , Accuracy : 0.2547999918460846\n",
            "Epoch 24 begin....\n",
            "Mini batches fetched!!\n",
            "Epoch 24\n",
            "Loss : 4.278555393218994 , Accuracy : 0.24580000340938568\n",
            "Epoch 25 begin....\n",
            "Mini batches fetched!!\n",
            "Epoch 25\n",
            "Loss : 4.238051414489746 , Accuracy : 0.2612000107765198\n",
            "Epoch 26 begin....\n",
            "Mini batches fetched!!\n",
            "Epoch 26\n",
            "Loss : 4.3183817863464355 , Accuracy : 0.25200000405311584\n",
            "Epoch 27 begin....\n",
            "Mini batches fetched!!\n",
            "Epoch 27\n",
            "Loss : 4.462791442871094 , Accuracy : 0.25540000200271606\n",
            "Epoch 28 begin....\n",
            "Mini batches fetched!!\n",
            "Epoch 28\n",
            "Loss : 4.469290733337402 , Accuracy : 0.2524000108242035\n",
            "Epoch 29 begin....\n",
            "Mini batches fetched!!\n",
            "Epoch 29\n",
            "Loss : 4.528621673583984 , Accuracy : 0.24740000069141388\n",
            "Epoch 30 begin....\n",
            "Mini batches fetched!!\n",
            "Epoch 30\n",
            "Loss : 4.510013103485107 , Accuracy : 0.25060001015663147\n",
            "Epoch 31 begin....\n",
            "Mini batches fetched!!\n",
            "Epoch 31\n",
            "Loss : 4.661565780639648 , Accuracy : 0.24799999594688416\n",
            "Epoch 32 begin....\n",
            "Mini batches fetched!!\n",
            "Epoch 32\n",
            "Loss : 4.673869609832764 , Accuracy : 0.24940000474452972\n",
            "Epoch 33 begin....\n",
            "Mini batches fetched!!\n",
            "Epoch 33\n",
            "Loss : 4.703307151794434 , Accuracy : 0.24779999256134033\n",
            "Epoch 34 begin....\n",
            "Mini batches fetched!!\n",
            "Epoch 34\n",
            "Loss : 4.770095348358154 , Accuracy : 0.24400000274181366\n",
            "Epoch 35 begin....\n",
            "Mini batches fetched!!\n",
            "Epoch 35\n",
            "Loss : 4.772036075592041 , Accuracy : 0.2492000013589859\n",
            "Epoch 36 begin....\n",
            "Mini batches fetched!!\n"
          ],
          "name": "stdout"
        }
      ]
    },
    {
      "metadata": {
        "id": "xLZQFi-93nKG",
        "colab_type": "code",
        "colab": {}
      },
      "cell_type": "code",
      "source": [
        "plt.imshow(feautures[99])"
      ],
      "execution_count": 0,
      "outputs": []
    },
    {
      "metadata": {
        "id": "654bFSvz-bij",
        "colab_type": "code",
        "colab": {}
      },
      "cell_type": "code",
      "source": [
        ""
      ],
      "execution_count": 0,
      "outputs": []
    }
  ]
}